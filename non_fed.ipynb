{
 "cells": [
  {
   "cell_type": "code",
   "execution_count": 1,
   "metadata": {},
   "outputs": [
    {
     "data": {
      "text/plain": [
       "'cuda'"
      ]
     },
     "execution_count": 1,
     "metadata": {},
     "output_type": "execute_result"
    }
   ],
   "source": [
    "import torch\n",
    "import torch.nn as nn\n",
    "import matplotlib.pyplot as plt\n",
    "import numpy as np\n",
    "import pandas as pd\n",
    "import math\n",
    "\n",
    "device = \"cuda\" if torch.cuda.is_available() else \"cpu\"\n",
    "device"
   ]
  },
  {
   "cell_type": "code",
   "execution_count": 2,
   "metadata": {},
   "outputs": [],
   "source": [
    "%reload_ext autoreload\n",
    "%autoreload 2\n",
    "\n",
    "from src.constants import csv_file, directory, INPUT_SHAPE, YEAR, ext\n",
    "\n",
    "from src.utils import (\n",
    "    get_dataloader,\n",
    "    split_val,\n",
    ")\n",
    "\n",
    "from model import Model_Retinopathy\n",
    "\n",
    "from src.constants import EPOCHS, BATCH_SIZE, LEARNING_RATE, UPDATES\n",
    "from src.constants import K_CLIENTS, C, rounds, clients\n",
    "from src.constants import optimizer_fn"
   ]
  },
  {
   "cell_type": "code",
   "execution_count": 3,
   "metadata": {},
   "outputs": [
    {
     "name": "stdout",
     "output_type": "stream",
     "text": [
      "3112 367 550\n"
     ]
    }
   ],
   "source": [
    "df = pd.read_csv(csv_file)\n",
    "df, test_df = split_val(df, 0.15)\n",
    "train_df, val_df = split_val(df, 0.118)\n",
    "\n",
    "print(len(df), len(val_df), len(test_df))\n",
    "\n",
    "_, val_loader = get_dataloader(val_df, ext, directory, BATCH_SIZE)\n",
    "_, test_loader = get_dataloader(test_df, ext, directory, BATCH_SIZE)"
   ]
  },
  {
   "cell_type": "code",
   "execution_count": 4,
   "metadata": {},
   "outputs": [],
   "source": [
    "model = Model_Retinopathy(optimizer_fn, train_df, val_loader, lr=0.05)"
   ]
  },
  {
   "cell_type": "code",
   "execution_count": 5,
   "metadata": {},
   "outputs": [
    {
     "name": "stdout",
     "output_type": "stream",
     "text": [
      "VALIDATION:  {'loss': 1.6153, 'accuracy': 0.1008, 'f1': 0.6727, 'accuracy_binary': 0.5068, 'recall': 1.0, 'precision': 0.5068}\n",
      "Epoch: 0\n",
      "VALIDATION:  {'loss': 1.2582, 'accuracy': 0.4932, 'f1': 0.0, 'accuracy_binary': 0.4932, 'recall': 0.0, 'precision': 0.0}\n",
      "Epoch: 1\n",
      "VALIDATION:  {'loss': 0.8378, 'accuracy': 0.7003, 'f1': 0.9003, 'accuracy_binary': 0.9046, 'recall': 0.8495, 'precision': 0.9576}\n",
      "Epoch: 2\n",
      "VALIDATION:  {'loss': 0.8396, 'accuracy': 0.7003, 'f1': 0.8966, 'accuracy_binary': 0.9019, 'recall': 0.8387, 'precision': 0.963}\n",
      "Epoch: 3\n",
      "VALIDATION:  {'loss': 0.8192, 'accuracy': 0.7003, 'f1': 0.8997, 'accuracy_binary': 0.9046, 'recall': 0.8441, 'precision': 0.9632}\n",
      "Epoch: 4\n",
      "VALIDATION:  {'loss': 0.8598, 'accuracy': 0.6785, 'f1': 0.9077, 'accuracy_binary': 0.9019, 'recall': 0.9516, 'precision': 0.8676}\n",
      "Epoch: 5\n",
      "VALIDATION:  {'loss': 0.8091, 'accuracy': 0.703, 'f1': 0.9029, 'accuracy_binary': 0.9074, 'recall': 0.8495, 'precision': 0.9634}\n",
      "Epoch: 6\n",
      "VALIDATION:  {'loss': 0.7854, 'accuracy': 0.7112, 'f1': 0.9141, 'accuracy_binary': 0.9155, 'recall': 0.8871, 'precision': 0.9429}\n",
      "Epoch: 7\n",
      "VALIDATION:  {'loss': 0.7758, 'accuracy': 0.7112, 'f1': 0.9146, 'accuracy_binary': 0.9155, 'recall': 0.8925, 'precision': 0.9379}\n",
      "Epoch: 8\n",
      "VALIDATION:  {'loss': 0.7788, 'accuracy': 0.7139, 'f1': 0.9157, 'accuracy_binary': 0.9183, 'recall': 0.8763, 'precision': 0.9588}\n",
      "Epoch: 9\n",
      "VALIDATION:  {'loss': 0.811, 'accuracy': 0.7166, 'f1': 0.9183, 'accuracy_binary': 0.921, 'recall': 0.8763, 'precision': 0.9645}\n",
      "Epoch: 10\n",
      "VALIDATION:  {'loss': 0.776, 'accuracy': 0.7003, 'f1': 0.9268, 'accuracy_binary': 0.9264, 'recall': 0.9194, 'precision': 0.9344}\n",
      "Epoch: 11\n",
      "VALIDATION:  {'loss': 0.8418, 'accuracy': 0.7139, 'f1': 0.9235, 'accuracy_binary': 0.9237, 'recall': 0.9086, 'precision': 0.9389}\n",
      "Epoch: 12\n",
      "VALIDATION:  {'loss': 0.8028, 'accuracy': 0.7003, 'f1': 0.9282, 'accuracy_binary': 0.9292, 'recall': 0.9032, 'precision': 0.9545}\n",
      "Epoch: 13\n",
      "VALIDATION:  {'loss': 0.8808, 'accuracy': 0.7221, 'f1': 0.9293, 'accuracy_binary': 0.9292, 'recall': 0.9194, 'precision': 0.9396}\n",
      "Epoch: 14\n",
      "VALIDATION:  {'loss': 0.9592, 'accuracy': 0.7084, 'f1': 0.9129, 'accuracy_binary': 0.9101, 'recall': 0.9301, 'precision': 0.8964}\n",
      "Epoch: 15\n",
      "VALIDATION:  {'loss': 0.9358, 'accuracy': 0.7248, 'f1': 0.9409, 'accuracy_binary': 0.9401, 'recall': 0.9409, 'precision': 0.9409}\n",
      "Epoch: 16\n",
      "VALIDATION:  {'loss': 1.398, 'accuracy': 0.7112, 'f1': 0.9387, 'accuracy_binary': 0.9373, 'recall': 0.9462, 'precision': 0.9312}\n",
      "Epoch: 17\n",
      "VALIDATION:  {'loss': 1.0159, 'accuracy': 0.7466, 'f1': 0.9418, 'accuracy_binary': 0.9401, 'recall': 0.957, 'precision': 0.9271}\n",
      "Epoch: 18\n",
      "VALIDATION:  {'loss': 1.1189, 'accuracy': 0.7139, 'f1': 0.9358, 'accuracy_binary': 0.9346, 'recall': 0.9409, 'precision': 0.9309}\n",
      "Epoch: 19\n",
      "VALIDATION:  {'loss': 0.9797, 'accuracy': 0.7221, 'f1': 0.9402, 'accuracy_binary': 0.9401, 'recall': 0.9301, 'precision': 0.9505}\n",
      "Epoch: 20\n",
      "VALIDATION:  {'loss': 1.1221, 'accuracy': 0.7302, 'f1': 0.9377, 'accuracy_binary': 0.9373, 'recall': 0.9301, 'precision': 0.9454}\n",
      "Epoch: 21\n",
      "VALIDATION:  {'loss': 1.0857, 'accuracy': 0.7302, 'f1': 0.9409, 'accuracy_binary': 0.9401, 'recall': 0.9409, 'precision': 0.9409}\n",
      "Epoch: 22\n",
      "VALIDATION:  {'loss': 0.9999, 'accuracy': 0.7439, 'f1': 0.9399, 'accuracy_binary': 0.9401, 'recall': 0.9247, 'precision': 0.9556}\n",
      "Epoch: 23\n",
      "VALIDATION:  {'loss': 1.1454, 'accuracy': 0.7302, 'f1': 0.9402, 'accuracy_binary': 0.9401, 'recall': 0.9301, 'precision': 0.9505}\n",
      "Epoch: 24\n",
      "VALIDATION:  {'loss': 1.0074, 'accuracy': 0.7575, 'f1': 0.9418, 'accuracy_binary': 0.9428, 'recall': 0.914, 'precision': 0.9714}\n",
      "Epoch: 25\n",
      "VALIDATION:  {'loss': 1.0862, 'accuracy': 0.733, 'f1': 0.929, 'accuracy_binary': 0.9292, 'recall': 0.914, 'precision': 0.9444}\n",
      "Epoch: 26\n",
      "VALIDATION:  {'loss': 1.1354, 'accuracy': 0.7384, 'f1': 0.9485, 'accuracy_binary': 0.9482, 'recall': 0.9409, 'precision': 0.9563}\n",
      "Epoch: 27\n",
      "VALIDATION:  {'loss': 1.0899, 'accuracy': 0.7302, 'f1': 0.937, 'accuracy_binary': 0.9373, 'recall': 0.9194, 'precision': 0.9553}\n",
      "Epoch: 28\n",
      "VALIDATION:  {'loss': 1.0208, 'accuracy': 0.733, 'f1': 0.9341, 'accuracy_binary': 0.9346, 'recall': 0.914, 'precision': 0.9551}\n",
      "Epoch: 29\n",
      "VALIDATION:  {'loss': 1.0483, 'accuracy': 0.7302, 'f1': 0.9274, 'accuracy_binary': 0.9292, 'recall': 0.8925, 'precision': 0.9651}\n",
      "Epoch: 30\n",
      "VALIDATION:  {'loss': 0.9464, 'accuracy': 0.7411, 'f1': 0.9399, 'accuracy_binary': 0.9401, 'recall': 0.9247, 'precision': 0.9556}\n",
      "Epoch: 31\n",
      "VALIDATION:  {'loss': 1.0824, 'accuracy': 0.7275, 'f1': 0.937, 'accuracy_binary': 0.9373, 'recall': 0.9194, 'precision': 0.9553}\n",
      "Epoch: 32\n",
      "VALIDATION:  {'loss': 1.084, 'accuracy': 0.7221, 'f1': 0.9017, 'accuracy_binary': 0.9074, 'recall': 0.8387, 'precision': 0.975}\n",
      "Epoch: 33\n",
      "VALIDATION:  {'loss': 0.9399, 'accuracy': 0.733, 'f1': 0.9396, 'accuracy_binary': 0.9401, 'recall': 0.9194, 'precision': 0.9607}\n",
      "Epoch: 34\n",
      "VALIDATION:  {'loss': 1.1842, 'accuracy': 0.7275, 'f1': 0.9402, 'accuracy_binary': 0.9401, 'recall': 0.9301, 'precision': 0.9505}\n",
      "Epoch: 35\n",
      "VALIDATION:  {'loss': 1.0586, 'accuracy': 0.7275, 'f1': 0.9293, 'accuracy_binary': 0.9292, 'recall': 0.9194, 'precision': 0.9396}\n",
      "Epoch: 36\n",
      "VALIDATION:  {'loss': 1.0814, 'accuracy': 0.7302, 'f1': 0.9366, 'accuracy_binary': 0.9373, 'recall': 0.914, 'precision': 0.9605}\n",
      "Epoch: 37\n",
      "VALIDATION:  {'loss': 0.9761, 'accuracy': 0.7221, 'f1': 0.9311, 'accuracy_binary': 0.9319, 'recall': 0.9086, 'precision': 0.9548}\n",
      "Epoch: 38\n",
      "VALIDATION:  {'loss': 1.0501, 'accuracy': 0.7384, 'f1': 0.9366, 'accuracy_binary': 0.9373, 'recall': 0.914, 'precision': 0.9605}\n",
      "Epoch: 39\n",
      "VALIDATION:  {'loss': 1.1337, 'accuracy': 0.7302, 'f1': 0.9488, 'accuracy_binary': 0.9482, 'recall': 0.9462, 'precision': 0.9514}\n",
      "Epoch: 40\n",
      "VALIDATION:  {'loss': 1.0968, 'accuracy': 0.733, 'f1': 0.9399, 'accuracy_binary': 0.9401, 'recall': 0.9247, 'precision': 0.9556}\n",
      "Epoch: 41\n",
      "VALIDATION:  {'loss': 1.0015, 'accuracy': 0.733, 'f1': 0.9457, 'accuracy_binary': 0.9455, 'recall': 0.9355, 'precision': 0.956}\n",
      "Epoch: 42\n",
      "VALIDATION:  {'loss': 1.1316, 'accuracy': 0.7248, 'f1': 0.9399, 'accuracy_binary': 0.9401, 'recall': 0.9247, 'precision': 0.9556}\n",
      "Epoch: 43\n",
      "VALIDATION:  {'loss': 1.0754, 'accuracy': 0.7357, 'f1': 0.9428, 'accuracy_binary': 0.9428, 'recall': 0.9301, 'precision': 0.9558}\n",
      "Epoch: 44\n",
      "VALIDATION:  {'loss': 1.0045, 'accuracy': 0.733, 'f1': 0.9399, 'accuracy_binary': 0.9401, 'recall': 0.9247, 'precision': 0.9556}\n",
      "Epoch: 45\n"
     ]
    },
    {
     "ename": "",
     "evalue": "",
     "output_type": "error",
     "traceback": [
      "\u001b[1;31mThe Kernel crashed while executing code in the current cell or a previous cell. \n",
      "\u001b[1;31mPlease review the code in the cell(s) to identify a possible cause of the failure. \n",
      "\u001b[1;31mClick <a href='https://aka.ms/vscodeJupyterKernelCrash'>here</a> for more info. \n",
      "\u001b[1;31mView Jupyter <a href='command:jupyter.viewOutput'>log</a> for further details."
     ]
    }
   ],
   "source": [
    "model.train_loop(100)\n",
    "print(model.validate(val_loader))\n",
    "print(model.validate(test_loader))"
   ]
  }
 ],
 "metadata": {
  "kernelspec": {
   "display_name": "pytorch-env",
   "language": "python",
   "name": "python3"
  },
  "language_info": {
   "codemirror_mode": {
    "name": "ipython",
    "version": 3
   },
   "file_extension": ".py",
   "mimetype": "text/x-python",
   "name": "python",
   "nbconvert_exporter": "python",
   "pygments_lexer": "ipython3",
   "version": "3.11.5"
  }
 },
 "nbformat": 4,
 "nbformat_minor": 2
}
