{
 "cells": [
  {
   "cell_type": "code",
   "execution_count": 3,
   "metadata": {},
   "outputs": [
    {
     "name": "stdout",
     "output_type": "stream",
     "text": [
      "Total number of samples: 3662\n",
      "0 1805\n",
      "1 370\n",
      "2 999\n",
      "3 193\n",
      "4 295\n"
     ]
    }
   ],
   "source": [
    "import pandas as pd\n",
    "\n",
    "from src.constants import csv_file\n",
    "from src.utils import split_non_iid\n",
    "\n",
    "df = pd.read_csv(csv_file)\n",
    "print(\"Total number of samples:\", len(df))\n",
    "for cat in [0, 1, 2, 3, 4]:\n",
    "    cat_df = df[df[\"level\"] == cat]\n",
    "    print(cat, len(cat_df))"
   ]
  },
  {
   "cell_type": "code",
   "execution_count": 27,
   "metadata": {},
   "outputs": [
    {
     "name": "stdout",
     "output_type": "stream",
     "text": [
      "             image  level\n",
      "2105  93d6d20a5ee3      0\n",
      "1800  7efc91af4ae6      4\n",
      "2385  a721efb1e049      2\n",
      "2942  cc1eebed9276      2\n",
      "2374  a646c084928c      0\n",
      "________________________\n",
      "             image  level\n",
      "1421  63b4d030b016      4\n",
      "2508  ae1344610ebe      2\n",
      "1837  8185ce1cdcef      0\n",
      "2532  af3b0115aad1      3\n",
      "573   289a47dcbb82      0\n"
     ]
    },
    {
     "data": {
      "text/html": [
       "<div>\n",
       "<style scoped>\n",
       "    .dataframe tbody tr th:only-of-type {\n",
       "        vertical-align: middle;\n",
       "    }\n",
       "\n",
       "    .dataframe tbody tr th {\n",
       "        vertical-align: top;\n",
       "    }\n",
       "\n",
       "    .dataframe thead th {\n",
       "        text-align: right;\n",
       "    }\n",
       "</style>\n",
       "<table border=\"1\" class=\"dataframe\">\n",
       "  <thead>\n",
       "    <tr style=\"text-align: right;\">\n",
       "      <th></th>\n",
       "      <th>image</th>\n",
       "      <th>level</th>\n",
       "    </tr>\n",
       "  </thead>\n",
       "  <tbody>\n",
       "    <tr>\n",
       "      <th>0</th>\n",
       "      <td>93d6d20a5ee3</td>\n",
       "      <td>0</td>\n",
       "    </tr>\n",
       "    <tr>\n",
       "      <th>1</th>\n",
       "      <td>7efc91af4ae6</td>\n",
       "      <td>4</td>\n",
       "    </tr>\n",
       "    <tr>\n",
       "      <th>2</th>\n",
       "      <td>a721efb1e049</td>\n",
       "      <td>2</td>\n",
       "    </tr>\n",
       "    <tr>\n",
       "      <th>3</th>\n",
       "      <td>cc1eebed9276</td>\n",
       "      <td>2</td>\n",
       "    </tr>\n",
       "    <tr>\n",
       "      <th>4</th>\n",
       "      <td>a646c084928c</td>\n",
       "      <td>0</td>\n",
       "    </tr>\n",
       "    <tr>\n",
       "      <th>5</th>\n",
       "      <td>63b4d030b016</td>\n",
       "      <td>4</td>\n",
       "    </tr>\n",
       "    <tr>\n",
       "      <th>6</th>\n",
       "      <td>ae1344610ebe</td>\n",
       "      <td>2</td>\n",
       "    </tr>\n",
       "    <tr>\n",
       "      <th>7</th>\n",
       "      <td>8185ce1cdcef</td>\n",
       "      <td>0</td>\n",
       "    </tr>\n",
       "    <tr>\n",
       "      <th>8</th>\n",
       "      <td>af3b0115aad1</td>\n",
       "      <td>3</td>\n",
       "    </tr>\n",
       "    <tr>\n",
       "      <th>9</th>\n",
       "      <td>289a47dcbb82</td>\n",
       "      <td>0</td>\n",
       "    </tr>\n",
       "  </tbody>\n",
       "</table>\n",
       "</div>"
      ],
      "text/plain": [
       "          image  level\n",
       "0  93d6d20a5ee3      0\n",
       "1  7efc91af4ae6      4\n",
       "2  a721efb1e049      2\n",
       "3  cc1eebed9276      2\n",
       "4  a646c084928c      0\n",
       "5  63b4d030b016      4\n",
       "6  ae1344610ebe      2\n",
       "7  8185ce1cdcef      0\n",
       "8  af3b0115aad1      3\n",
       "9  289a47dcbb82      0"
      ]
     },
     "execution_count": 27,
     "metadata": {},
     "output_type": "execute_result"
    }
   ],
   "source": [
    "df = pd.read_csv(csv_file)\n",
    "xd = df.sample(5)\n",
    "print(xd.head())\n",
    "xd2 = df.sample(5)\n",
    "print(\"________________________\")\n",
    "print(xd2.head())\n",
    "new_df = pd.concat([xd, xd2]).reset_index(drop=True)\n",
    "new_df"
   ]
  },
  {
   "cell_type": "code",
   "execution_count": 19,
   "metadata": {},
   "outputs": [
    {
     "data": {
      "text/plain": [
       "[4, 2, 5, 3, 1]"
      ]
     },
     "execution_count": 19,
     "metadata": {},
     "output_type": "execute_result"
    }
   ],
   "source": [
    "import random\n",
    "\n",
    "ls = [1, 2, 3, 4, 5]\n",
    "random.shuffle(ls)\n",
    "ls"
   ]
  },
  {
   "cell_type": "code",
   "execution_count": 7,
   "metadata": {},
   "outputs": [
    {
     "name": "stdout",
     "output_type": "stream",
     "text": [
      "(366, 2)\n",
      "            image  level\n",
      "361  ab1c20a94f3f      4\n",
      "362  576e189d23d4      4\n",
      "363  d803598dabda      4\n",
      "364  499c8df39222      4\n",
      "365  07122e268a1d      4\n"
     ]
    }
   ],
   "source": [
    "df = pd.read_csv(csv_file)\n",
    "\n",
    "from src.utils import split_non_iid_and_iid\n",
    "\n",
    "train_df = split_non_iid_and_iid(df)\n",
    "first = train_df[0]\n",
    "print(first.shape)\n",
    "print(first.tail())"
   ]
  },
  {
   "cell_type": "code",
   "execution_count": 3,
   "metadata": {},
   "outputs": [
    {
     "data": {
      "text/plain": [
       "tensor([False,  True,  True,  True, False,  True,  True, False])"
      ]
     },
     "execution_count": 3,
     "metadata": {},
     "output_type": "execute_result"
    }
   ],
   "source": [
    "import torch\n",
    "\n",
    "ten = torch.tensor([0, 1, 2, 3, 0, 4, 1, 0]).int()\n",
    "aux = ten > 0\n",
    "aux"
   ]
  },
  {
   "cell_type": "code",
   "execution_count": 1,
   "metadata": {},
   "outputs": [
    {
     "name": "stdout",
     "output_type": "stream",
     "text": [
      "0.0 MB\n"
     ]
    }
   ],
   "source": [
    "import torch\n",
    "\n",
    "gpu_memory = torch.cuda.memory_allocated()\n",
    "print(gpu_memory / (1024**2), \"MB\")"
   ]
  }
 ],
 "metadata": {
  "kernelspec": {
   "display_name": "pytorch-env",
   "language": "python",
   "name": "python3"
  },
  "language_info": {
   "codemirror_mode": {
    "name": "ipython",
    "version": 3
   },
   "file_extension": ".py",
   "mimetype": "text/x-python",
   "name": "python",
   "nbconvert_exporter": "python",
   "pygments_lexer": "ipython3",
   "version": "3.11.5"
  }
 },
 "nbformat": 4,
 "nbformat_minor": 2
}
