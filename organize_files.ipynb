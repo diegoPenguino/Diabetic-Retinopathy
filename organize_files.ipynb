{
 "cells": [
  {
   "cell_type": "code",
   "execution_count": 24,
   "metadata": {},
   "outputs": [],
   "source": [
    "import os\n",
    "import pandas as pd \n",
    "import shutil\n",
    "from tqdm import tqdm"
   ]
  },
  {
   "cell_type": "code",
   "execution_count": 25,
   "metadata": {},
   "outputs": [],
   "source": [
    "data_class = {0: 'No_DR',1: 'Mild',2: 'Moderate',3: 'Severe', 4: 'Proliferate_DR'}"
   ]
  },
  {
   "cell_type": "code",
   "execution_count": 26,
   "metadata": {},
   "outputs": [],
   "source": [
    "dir = 'Data\\\\Resized'\n",
    "dir_init = 'resized_train_cropped'\n",
    "new_dir = 'organized_2015'\n",
    "csv_file = 'train_2015.csv'\n",
    "\n",
    "dir_init = os.path.join(dir, dir_init)\n",
    "csv_file = os.path.join(dir, csv_file)\n",
    "new_dir = os.path.join(dir, new_dir)\n",
    "\n",
    "df = pd.read_csv(csv_file)\n",
    "\n",
    "if not os.path.exists(new_dir):\n",
    "    os.makedirs(new_dir)\n",
    "    for i in range(5):\n",
    "        os.makedirs(os.path.join(new_dir, data_class[i]))"
   ]
  },
  {
   "cell_type": "code",
   "execution_count": 27,
   "metadata": {},
   "outputs": [
    {
     "name": "stderr",
     "output_type": "stream",
     "text": [
      "35108it [02:47, 209.05it/s]"
     ]
    },
    {
     "name": "stdout",
     "output_type": "stream",
     "text": [
      "Done\n"
     ]
    },
    {
     "name": "stderr",
     "output_type": "stream",
     "text": [
      "\n"
     ]
    }
   ],
   "source": [
    "for index, row in tqdm(df.iterrows()):\n",
    "    img = row['image'] + '.jpeg'\n",
    "    class_name = data_class[row['level']]\n",
    "    origin = os.path.join(dir_init, img)\n",
    "    copy_to = os.path.join(new_dir, class_name)\n",
    "    shutil.copy(origin, copy_to)\n",
    "print('Done')"
   ]
  }
 ],
 "metadata": {
  "kernelspec": {
   "display_name": "pytorch-env",
   "language": "python",
   "name": "python3"
  },
  "language_info": {
   "codemirror_mode": {
    "name": "ipython",
    "version": 3
   },
   "file_extension": ".py",
   "mimetype": "text/x-python",
   "name": "python",
   "nbconvert_exporter": "python",
   "pygments_lexer": "ipython3",
   "version": "3.11.5"
  }
 },
 "nbformat": 4,
 "nbformat_minor": 2
}
